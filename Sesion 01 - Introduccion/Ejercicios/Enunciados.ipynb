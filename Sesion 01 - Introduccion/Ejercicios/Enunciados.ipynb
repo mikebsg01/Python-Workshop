{
 "cells": [
  {
   "cell_type": "markdown",
   "metadata": {},
   "source": [
    "# Sesión 01: Introducción \n"
   ]
  },
  {
   "cell_type": "markdown",
   "metadata": {},
   "source": [
    "**1) Identifica el tipo de dato (int, float, string o list) de los siguientes valores literales**\n",
    "```python\n",
    "\"Hola Mundo\"        # <- Cadena (String)\n",
    "[1, 10, 100]        # <- Lista de enteros (List)\n",
    "-25                 # <- Entero negativo (Int) \n",
    "1.167               # <- Flotante (Float)\n",
    "[\"Hola\", \"Mundo\"]   # <- Lista de strings (List)\n",
    "' '        \n",
    "```"
   ]
  },
  {
   "cell_type": "markdown",
   "metadata": {},
   "source": [
    "**2) Determina mentalmente (sin programar) el resultado que aparecerá por pantalla a partir de las siguientes variables:**\n",
    "```python\n",
    "a = 10\n",
    "b = -5\n",
    "c = \"Hola \"\n",
    "d = [1, 2, 3]\n",
    "```\n",
    "```python\n",
    "print(a * 5)        # R: 50\n",
    "print(a - b)        # R: 15\n",
    "print(c + \"Mundo\")  # R: \"Hola Mundo\" \n",
    "print(c * 2)        # R: \"Hola Hola \"\n",
    "print(c[-1])        # R: \" \"\n",
    "print(c[1:])        # R: \"ola \"\n",
    "print(d + d)        # R: [1, 2, 3, 1, 2, 3]\n",
    "```"
   ]
  },
  {
   "cell_type": "markdown",
   "metadata": {},
   "source": [
    "**3) El siguiente código pretende realizar una media entre 3 números, pero no funciona correctamente. ¿Eres capaz de identificar el problema y solucionarlo?**"
   ]
  },
  {
   "cell_type": "code",
   "execution_count": 2,
   "metadata": {},
   "outputs": [
    {
     "name": "stdout",
     "output_type": "stream",
     "text": [
      "La nota media es 6.0\n"
     ]
    }
   ],
   "source": [
    "numero_1 = 9\n",
    "numero_2 = 3\n",
    "numero_3 = 6\n",
    "\n",
    "media = (numero_1 + numero_2 + numero_3) / 3    # El problema es debido a la jerarquía de operadores ya que primero \n",
    "                                                # se ejecuta la división y luego la suma, es por ello que necesita de\n",
    "                                                # paréntesis.\n",
    "print(\"La nota media es\", media)"
   ]
  },
  {
   "cell_type": "markdown",
   "metadata": {},
   "source": [
    "**4) A partir del ejercicio anterior, vamos a suponer que cada número es una nota, y lo que queremos es obtener la nota media. El problema es que cada nota tiene un valor porcentual:**\n",
    "\n",
    "* La primera nota vale un 15% del total\n",
    "* La segunda nota vale un 35% del total\n",
    "* La tercera nota vale un 50% del total\n",
    "\n",
    "**Desarrolla un programa para calcular perfectamente la nota final.**"
   ]
  },
  {
   "cell_type": "code",
   "execution_count": 13,
   "metadata": {},
   "outputs": [
    {
     "name": "stdout",
     "output_type": "stream",
     "text": [
      "La nota final es: 5.949999999999999\n"
     ]
    }
   ],
   "source": [
    "nota_1 = 10\n",
    "nota_2 = 7\n",
    "nota_3 = 4\n",
    "\n",
    "# Completa el ejercicio aquí\n",
    "nota_final = (nota_1 * .15) + (nota_2 * .35) + (nota_3 * .50)\n",
    "\n",
    "print('La nota final es:', nota_final)"
   ]
  },
  {
   "cell_type": "markdown",
   "metadata": {},
   "source": [
    "**5) La siguiente matriz (o lista con listas anidadas) debe cumplir una condición, y es que en cada fila, el cuarto elemento siempre debe ser el resultado de sumar los tres primeros. ¿Eres capaz de modificar las sumas incorrectas utilizando la técnica del slicing?**\n",
    "\n",
    "*Ayuda: La función llamada sum(lista) devuelve una suma de todos los elementos de la lista ¡Pruébalo!*"
   ]
  },
  {
   "cell_type": "code",
   "execution_count": 15,
   "metadata": {},
   "outputs": [
    {
     "name": "stdout",
     "output_type": "stream",
     "text": [
      "Matriz final:\n",
      "[1, 1, 1, 3]\n",
      "[2, 2, 2, 6]\n",
      "[3, 3, 3, 9]\n",
      "[4, 4, 4, 12]\n"
     ]
    }
   ],
   "source": [
    "matriz = [ \n",
    "    [1, 1, 1, 3],\n",
    "    [2, 2, 2, 7],\n",
    "    [3, 3, 3, 9],\n",
    "    [4, 4, 4, 13]\n",
    "]\n",
    "\n",
    "matriz = list(map(lambda r: r[:3] + [ sum(r[:3]) ], matriz))\n",
    "\n",
    "print('Matriz final:')\n",
    "\n",
    "for row in matriz:\n",
    "    print(row)"
   ]
  },
  {
   "cell_type": "markdown",
   "metadata": {},
   "source": [
    "**6) Al realizar una consulta en un registro hemos obtenido una cadena de texto corrupta al revés. Al parecer contiene el nombre de un alumno y la nota de un exámen. ¿Cómo podríamos formatear la cadena y conseguir una estructura como la siguiente?:**\n",
    "\n",
    "* ***Nombre*** ***Apellido*** ha sacado un ***Nota*** de nota.\n",
    "\n",
    "*Ayuda: Para voltear una cadena rápidamente utilizando slicing podemos utilizar un tercer índice -1: **cadena[::-1]** *"
   ]
  },
  {
   "cell_type": "code",
   "execution_count": 17,
   "metadata": {},
   "outputs": [
    {
     "name": "stdout",
     "output_type": "stream",
     "text": [
      "Juan Pérez ha sacado un 10 de nota.\n"
     ]
    }
   ],
   "source": [
    "cadena = \"zeréP nauJ,01\"\n",
    "\n",
    "# Completa el ejercicio aquí\n",
    "exam_score, full_name  = cadena[::-1].split(',')\n",
    "print(\"{} ha sacado un {} de nota.\".format(full_name, exam_score))"
   ]
  }
 ],
 "metadata": {
  "anaconda-cloud": {},
  "kernelspec": {
   "display_name": "Python 3",
   "language": "python",
   "name": "python3"
  },
  "language_info": {
   "codemirror_mode": {
    "name": "ipython",
    "version": 3
   },
   "file_extension": ".py",
   "mimetype": "text/x-python",
   "name": "python",
   "nbconvert_exporter": "python",
   "pygments_lexer": "ipython3",
   "version": "3.7.3"
  }
 },
 "nbformat": 4,
 "nbformat_minor": 4
}
